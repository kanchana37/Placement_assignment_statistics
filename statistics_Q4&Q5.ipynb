{
 "cells": [
  {
   "cell_type": "markdown",
   "id": "919f5d9a",
   "metadata": {},
   "source": [
    "# Placement_assignment_stats"
   ]
  },
  {
   "cell_type": "markdown",
   "id": "0edb22d0",
   "metadata": {},
   "source": [
    "### Q4. A group of 20 friends decide to play a game in which they each write a number between 1 and 20 on a slip of paper and put it into a hat. They then draw one slip of paperat random. What is the probability that the number on the slip of paper is a perfect square (i.e., 1, 4, 9, or 16)"
   ]
  },
  {
   "cell_type": "markdown",
   "id": "8c3024e8",
   "metadata": {},
   "source": [
    "Ans4. To calculate the probability of drawing a perfect square number from the hat, we need to determine the number of favorable outcomes (slips of paper with perfect square numbers) and the total number of possible outcomes (all slips of paper).\n",
    "\n",
    "In this case, there are four perfect square numbers between 1 and 20: 1, 4, 9, and 16. Therefore, the number of favorable outcomes is 4.\n",
    "\n",
    "Since there are 20 slips of paper in total, the total number of possible outcomes is 20.\n",
    "\n",
    "To calculate the probability, we divide the number of favorable outcomes by the total number of possible outcomes:\n",
    "\n",
    "#### Probability = Number of favorable outcomes / Total number of possible outcomes\n",
    "\n",
    "Probability = 4 / 20\n",
    "\n",
    "Simplifying, we get:\n",
    "\n",
    "Probability = 1 / 5\n",
    "\n",
    "#### Therefore, the probability of drawing a perfect square number from the hat is 1/5 or 0.2, which is equivalent to 20%."
   ]
  },
  {
   "cell_type": "markdown",
   "id": "da5651d0",
   "metadata": {},
   "source": [
    "### Q5. A certain city has two taxi companies: Company A has 80% of the taxis and Company B has 20% of the taxis. Company A's taxis have a 95% success rate for picking up passengers on time, while Company B's taxis have a 90% success rate. If a randomly selected taxi is late, what is the probability that it belongs to Company A?"
   ]
  },
  {
   "cell_type": "markdown",
   "id": "87c82a2c",
   "metadata": {},
   "source": [
    "#### Ans5. To solve this problem, we can use Bayes' theorem to calculate the probability that a randomly selected taxi belongs to Company A given that it is late.\n",
    "\n",
    "Let's denote the following probabilities:\n",
    "\n",
    "##### P(A): Probability that a randomly selected taxi belongs to Company A (80% or 0.8).\n",
    "##### P(B): Probability that a randomly selected taxi belongs to Company B (20% or 0.2).\n",
    "##### P(L|A): Probability that a taxi from Company A is late (1 - success rate = 1 - 0.95 = 0.05).\n",
    "##### P(L|B): Probability that a taxi from Company B is late (1 - success rate = 1 - 0.90 = 0.10).\n",
    "\n",
    "We need to calculate P(A|L), the probability that a taxi belongs to Company A given that it is late.\n",
    "\n",
    "According to Bayes' theorem:\n",
    "P(A|L) = (P(L|A) * P(A)) / P(L)\n",
    "\n",
    "To calculate P(L), the probability that a taxi is late, we can use the law of total probability:\n",
    "P(L) = P(L|A) * P(A) + P(L|B) * P(B)\n",
    "\n",
    "Now let's plug in the values:\n",
    "\n",
    "P(L) = (0.05 * 0.8) + (0.10 * 0.2)\n",
    "= 0.04 + 0.02\n",
    "= 0.06\n",
    "\n",
    "P(A|L) = (0.05 * 0.8) / 0.06\n",
    "= 0.04 / 0.06\n",
    "= 4/6\n",
    "= 2/3\n",
    "≈ 0.6667\n",
    "\n",
    "##### Therefore, the probability that a randomly selected taxi, which is late, belongs to Company A is approximately 0.6667 or 66.67%.\n",
    "\n",
    "\n",
    "\n",
    "\n"
   ]
  },
  {
   "cell_type": "code",
   "execution_count": null,
   "id": "4e9a500d",
   "metadata": {},
   "outputs": [],
   "source": []
  }
 ],
 "metadata": {
  "kernelspec": {
   "display_name": "Python 3 (ipykernel)",
   "language": "python",
   "name": "python3"
  },
  "language_info": {
   "codemirror_mode": {
    "name": "ipython",
    "version": 3
   },
   "file_extension": ".py",
   "mimetype": "text/x-python",
   "name": "python",
   "nbconvert_exporter": "python",
   "pygments_lexer": "ipython3",
   "version": "3.10.9"
  }
 },
 "nbformat": 4,
 "nbformat_minor": 5
}
