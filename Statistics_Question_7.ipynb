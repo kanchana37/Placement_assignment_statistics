{
 "cells": [
  {
   "cell_type": "markdown",
   "id": "1324aa40",
   "metadata": {},
   "source": [
    "# Statistics_Question_7"
   ]
  },
  {
   "cell_type": "markdown",
   "id": "a5b134fe",
   "metadata": {},
   "source": [
    "### Q7. The equations of two lines of regression, obtained in a correlation analysis between variables X and Y are as follows:\n",
    "### 2𝑋 + 3 − 8 = 0 and 2𝑌 + 𝑋 − 5 = 0 The variance of 𝑋 = 4 Find the\n",
    "#### a. Variance of Y\n",
    "#### b. Coefficient of determination of C and Y\n",
    "#### c. Standard error of estimate of X on Y and of Y on X.\n"
   ]
  },
  {
   "cell_type": "markdown",
   "id": "f84cfd69",
   "metadata": {},
   "source": [
    "Ans 7. The equations of two lines of regression can be written as:\n",
    "\n",
    "#### Y=a+bX\n",
    "#### X=c+dY\n",
    "\n",
    "where a and b are the intercept and slope of the regression line of Y on X, and c and d are the intercept and slope of the regression line of X on Y.\n",
    "\n",
    "From the given information, we can write the equations in the above form as:\n",
    "Y=38−32X\n",
    "X=5−2Y\n",
    "\n",
    "#### 1. Variance of Y:\n",
    "\n",
    "##### Var(Y) = b^2 * Var(X)\n",
    "\n",
    "Substituting the values, we get:\n",
    "Var(Y) = (3/2)^2 * 4 = 9\n",
    "\n",
    "#### 2. Coefficient of determination of X and Y:\n",
    "\n",
    "##### r^2 = b * d\n",
    "\n",
    "Substituting the values, we get:\n",
    "r^2 = (-3/2) * (-2) = 3/4 = 0.75\n",
    "\n",
    "#### 3. Standard error of estimate of X on Y and of Y on X:\n",
    "\n",
    "#### Standard error of estimate of X on Y (Sx/y):\n",
    "##### Sx/y = sqrt(1 - r^2) * sqrt(Var(X))\n",
    "\n",
    "Substituting the values, we get:\n",
    "Sx/y = sqrt(1 - 0.75) * sqrt(4) = sqrt(0.25) * 2 = 0.5 * 2 = 1\n",
    "\n",
    "#### Standard error of estimate of Y on X (Sy/x):\n",
    "##### Sy/x = sqrt(1 - r^2) * sqrt(Var(Y))\n",
    "Substituting the values, we get:\n",
    "Sy/x = sqrt(1 - 0.75) * sqrt(9) = sqrt(0.25) * 3 = 0.5 * 3 = 1.5\n",
    "\n",
    "#### Therefore, the results are:\n",
    "#### a. Variance of Y = 9\n",
    "#### b. Coefficient of determination of X and Y = 0.75\n",
    "#### c. Standard error of estimate of X on Y = 1 and of Y on X = 1.5"
   ]
  },
  {
   "cell_type": "code",
   "execution_count": null,
   "id": "a9840f8f",
   "metadata": {},
   "outputs": [],
   "source": []
  }
 ],
 "metadata": {
  "kernelspec": {
   "display_name": "Python 3 (ipykernel)",
   "language": "python",
   "name": "python3"
  },
  "language_info": {
   "codemirror_mode": {
    "name": "ipython",
    "version": 3
   },
   "file_extension": ".py",
   "mimetype": "text/x-python",
   "name": "python",
   "nbconvert_exporter": "python",
   "pygments_lexer": "ipython3",
   "version": "3.10.9"
  }
 },
 "nbformat": 4,
 "nbformat_minor": 5
}
